{
 "cells": [
  {
   "cell_type": "markdown",
   "metadata": {},
   "source": [
    "# Derivador Simbolico"
   ]
  },
  {
   "cell_type": "markdown",
   "metadata": {},
   "source": [
    "### Define possible variables"
   ]
  },
  {
   "cell_type": "code",
   "execution_count": 2,
   "metadata": {},
   "outputs": [],
   "source": [
    "operators = ['^','*','/','+','-']\n",
    "eulers = ['e']\n",
    "variables = ['x']\n",
    "lparenthesis = ['(']\n",
    "rparenthesis = [')']\n",
    "numbers = ['1','2','3','4','5','6','7','8','9']"
   ]
  },
  {
   "cell_type": "code",
   "execution_count": 3,
   "metadata": {},
   "outputs": [],
   "source": [
    "prec = {}\n",
    "prec[\"^\"] = 3\n",
    "prec[\"*\"] = 3\n",
    "prec[\"/\"] = 3\n",
    "prec[\"+\"] = 2\n",
    "prec[\"-\"] = 2\n",
    "prec[\"(\"] = 1"
   ]
  },
  {
   "cell_type": "markdown",
   "metadata": {},
   "source": [
    "### Adding parenthesis to the expression\n",
    "Needs to be implemented\n",
    "TODO"
   ]
  },
  {
   "cell_type": "code",
   "execution_count": 29,
   "metadata": {},
   "outputs": [
    {
     "name": "stdout",
     "output_type": "stream",
     "text": [
      " \n",
      " \n",
      " \n",
      " \n",
      " \n",
      " \n",
      " \n",
      " \n",
      " \n",
      " \n",
      "{'^': [3, 8, 13, 17], '*': [1, 5, 20], '/': [], '+': [10, 15], '-': []}\n",
      "{0: {'beg': 0, 'end': 0}, 1: {'beg': 1, 'end': 1}, 2: {'beg': 2, 'end': 2}, 3: {'beg': 3, 'end': 3}, 4: {'beg': 4, 'end': 4}, 5: {'beg': 5, 'end': 5}, 6: {'beg': 6, 'end': 12}, 7: {'beg': 7, 'end': 7}, 8: {'beg': 8, 'end': 8}, 9: {'beg': 9, 'end': 9}, 10: {'beg': 10, 'end': 10}, 11: {'beg': 11, 'end': 11}, 13: {'beg': 13, 'end': 13}, 14: {'beg': 14, 'end': 14}, 15: {'beg': 15, 'end': 15}, 16: {'beg': 16, 'end': 16}, 17: {'beg': 17, 'end': 17}, 18: {'beg': 18, 'end': 22}, 19: {'beg': 19, 'end': 19}, 20: {'beg': 20, 'end': 20}, 21: {'beg': 21, 'end': 21}}\n"
     ]
    }
   ],
   "source": [
    "def changeFormula(formula):\n",
    "    obj = {\n",
    "        '^':[],\n",
    "        '*':[],\n",
    "        '/':[],\n",
    "        '+':[],\n",
    "        '-':[]\n",
    "    }\n",
    "    itemObj = {\n",
    "        \n",
    "    }\n",
    "    for i in range(len(formula)):\n",
    "        for a in range(len(operators)):\n",
    "            if(formula[i] == operators[a]):\n",
    "                obj[operators[a]].append(i)\n",
    "    #getOjectsinFormula\n",
    "    for i in range(len(formula)):\n",
    "        for a in range(len(operators)):\n",
    "            if(formula[i] != operators[a]):\n",
    "                if(formula[i] == '('):\n",
    "                    #look for next closing parenthesis\n",
    "                    begining = i\n",
    "                    end = None\n",
    "                    formula2 = formula[i:]\n",
    "                    for j in range(len(formula2)):\n",
    "                        if(formula2[j]==')'):\n",
    "                            end = j + i\n",
    "                            break\n",
    "                    itemObj[i] = {\n",
    "                        'beg': begining,\n",
    "                        'end': end\n",
    "                    }\n",
    "                elif(formula[i] == ')'):\n",
    "                    print(' ')\n",
    "                elif(formula[i] != '(' or formula[i] != ')'):\n",
    "                    begining = i\n",
    "                    end = i\n",
    "                    itemObj[i] = {\n",
    "                        'beg': begining,\n",
    "                        'end': end\n",
    "                    }\n",
    "    print(obj)\n",
    "    print(itemObj)\n",
    "changeFormula('3*x^2*(x^2+1)^3+e^(2*x)')\n"
   ]
  },
  {
   "cell_type": "markdown",
   "metadata": {},
   "source": [
    "### Functions for the derivative process"
   ]
  },
  {
   "cell_type": "code",
   "execution_count": 63,
   "metadata": {},
   "outputs": [],
   "source": [
    "# definición de Reglas\n",
    "def getString(node):\n",
    "    global stringarbol\n",
    "    stringarbol = ''\n",
    "    formString(node)\n",
    "    return stringarbol\n",
    "\n",
    "def formString(node):\n",
    "    global stringarbol\n",
    "    if node.left is not None:\n",
    "        stringarbol = stringarbol + '('\n",
    "        formString(node.left)\n",
    "    stringarbol = stringarbol + node.data\n",
    "    if node.right is not None:\n",
    "        formString(node.right)\n",
    "        stringarbol = stringarbol + ')'\n",
    "def derivar(node):\n",
    "    if(node.left and node.right):\n",
    "        left = node.left\n",
    "        right = node.right\n",
    "        if(node.data == '*'):\n",
    "            print('product')\n",
    "            return(product(left, right))\n",
    "        elif(node.data == '/'):\n",
    "            print('quotient')\n",
    "            return(quotient(left, right))\n",
    "        elif(node.data == '+'):\n",
    "            print('sum')\n",
    "            return(suma(left, right))\n",
    "        elif(node.data == '-'):\n",
    "            print('subtract')\n",
    "            return(subtract(left, right))\n",
    "        elif(node.data == '^'):\n",
    "            if(node.left.data == 'e'):\n",
    "                print('euler')\n",
    "                return(euler(left, right))\n",
    "            else:\n",
    "                print('power')\n",
    "                return(power(left, right))\n",
    "    else:\n",
    "        data = node.data\n",
    "        if(data == 'x'):\n",
    "            print('var')\n",
    "            return(variable(data))\n",
    "        else:\n",
    "            print('const')\n",
    "            return(constante(data))\n",
    "        \n",
    "        \n",
    "def product(el1, el2):\n",
    "#     print('multi')\n",
    "    return ('('+getString(el1)+'*'+derivar(el2)+'+'+derivar(el1)+'*'+getString(el2)+')')\n",
    "def quotient(el1, el2):\n",
    "#     print('quotient')\n",
    "    return ('('+derivar(el1)+'*'+getString(el2)+'-'+derivar(el2)+'*'+getString(el1)+'/'+getString(el2)+'^2'+')')\n",
    "def suma(el1, el2):\n",
    "#     print('suma')\n",
    "    return ('('+derivar(el1)+'+'+derivar(el2)+')')\n",
    "def subtract(el1, el2):\n",
    "#     print('subrtract')\n",
    "    return ('('+derivar(el1)+'-'+derivar(el2)+')')\n",
    "def euler(el1, el2):\n",
    "#     print('exponente')\n",
    "    return('('+derivar(el2)+'*'+getString(el1)+'^'+'('+getString(el2)+')'+')')\n",
    "def power(el1, el2):\n",
    "#     print('power')\n",
    "    return ('('+getString(el2)+'*'+getString(el1)+'^('+getString(el2)+'-1)'+'*'+derivar(el1)+')')\n",
    "def constante(const):\n",
    "#     print('const')\n",
    "    return '0'\n",
    "def variable(var):\n",
    "#     print('var')\n",
    "    return '1'\n",
    "\n",
    "def checkType(s):\n",
    "    if(s in operators):\n",
    "        return 'operator'\n",
    "    elif(s in variables):\n",
    "        return 'var'\n",
    "    elif(s in lparenthesis):\n",
    "        return 'lparenthesis'\n",
    "    elif(s in rparenthesis):\n",
    "        return 'rparenthesis'\n",
    "    elif(s in numbers):\n",
    "        return 'number'\n",
    "    elif(s in eulers):\n",
    "        return 'euler'"
   ]
  },
  {
   "cell_type": "markdown",
   "metadata": {},
   "source": [
    "### Tree for inserting the math expression"
   ]
  },
  {
   "cell_type": "code",
   "execution_count": 65,
   "metadata": {},
   "outputs": [],
   "source": [
    "class Tree(object):\n",
    "    def __init__(self):\n",
    "        self.root = None\n",
    "        self.current = None\n",
    "        \n",
    "    def insertEmptyChild(self):\n",
    "        if(self.root == None):\n",
    "            newNode = Node()\n",
    "            self.root = newNode\n",
    "            self.current = newNode\n",
    "            print('root')\n",
    "        else:\n",
    "            if(self.current.left == None):\n",
    "                print('left empty')\n",
    "                newNode = Node()\n",
    "                newNode.parent = self.current\n",
    "                self.current.left = newNode\n",
    "                self.current = self.current.left\n",
    "                \n",
    "            elif(self.current.right == None):\n",
    "                print('right empty')\n",
    "                newNode = Node()\n",
    "                newNode.parent = self.current\n",
    "                self.current.right = newNode\n",
    "                self.current = self.current.right\n",
    "            else:\n",
    "                assert('All children are taken')\n",
    "                \n",
    "    def addVar(self, x, tipo):\n",
    "        if(self.root == None):\n",
    "            self.root = Node()\n",
    "            self.current = self.root\n",
    "            self.root.data = x\n",
    "            self.root.type = tipo\n",
    "        else:\n",
    "            if(self.current.left == None):\n",
    "                print('left var')\n",
    "                newNode = Node()\n",
    "                newNode.data = x\n",
    "                newNode.type = tipo\n",
    "                newNode.parent = self.current\n",
    "                self.current.left = newNode\n",
    "                self.current = newNode\n",
    "            elif(self.current.right == None):\n",
    "                print('right var')\n",
    "                newNode = Node()\n",
    "                newNode.data = x\n",
    "                newNode.type = tipo\n",
    "                newNode.parent = self.current\n",
    "                self.current.right = newNode\n",
    "                self.current = newNode\n",
    "                \n",
    "    def addOperator(self, x, tipo):\n",
    "        if(self.current.parent == None):\n",
    "            print('No parent')\n",
    "        else:\n",
    "            print('up add operator')\n",
    "            self.current = self.current.parent\n",
    "            self.current.data = x\n",
    "            self.current.type = tipo\n",
    "            \n",
    "    def goUp(self):\n",
    "        if(self.current.parent == None):\n",
    "            print('No parent')\n",
    "        else:\n",
    "            print('go up')\n",
    "            self.current = self.current.parent\n",
    "    def printCurrent(self):\n",
    "        if(self.current != None):\n",
    "            print('data',self.current.data)\n",
    "            print('type',self.current.type)\n",
    "            print('left',self.current.left)\n",
    "            print('right',self.current.right)\n",
    "            print('parent',self.current.parent)\n",
    "        else:\n",
    "            print('current is none')\n",
    "    "
   ]
  },
  {
   "cell_type": "markdown",
   "metadata": {},
   "source": [
    "### Define Node on the tree"
   ]
  },
  {
   "cell_type": "code",
   "execution_count": null,
   "metadata": {},
   "outputs": [],
   "source": [
    "class Node(object):\n",
    "    def __init__(self):\n",
    "        self.left = None\n",
    "        self.right = None\n",
    "        self.parent = None\n",
    "        self.data = None\n",
    "        self.type = None"
   ]
  },
  {
   "cell_type": "markdown",
   "metadata": {},
   "source": [
    "### Function to insert formula into a tree"
   ]
  },
  {
   "cell_type": "code",
   "execution_count": 67,
   "metadata": {},
   "outputs": [],
   "source": [
    "def formtree(arbol):\n",
    "    for item in formula:\n",
    "        print(item)\n",
    "        if(checkType(item) == 'lparenthesis'):\n",
    "            arbol.insertEmptyChild()\n",
    "            print('create empty child node, current node is the one created')\n",
    "        elif(checkType(item) == 'rparenthesis'):\n",
    "            arbol.goUp()\n",
    "            print('current node is the parent of the current node')\n",
    "        elif(checkType(item) == 'var'):\n",
    "            arbol.addVar(item, 'var')\n",
    "            print('create a child node and set data')\n",
    "        elif(checkType(item) == 'number'):\n",
    "            arbol.addVar(item, 'number')\n",
    "            print('create a child node and set data')\n",
    "        elif(checkType(item) == 'euler'):\n",
    "            arbol.addVar(item, 'euler')\n",
    "            print('create a child node and set data')\n",
    "        elif(checkType(item) == 'operator'):\n",
    "            arbol.addOperator(item, 'operator')\n",
    "            print('go to empty parent and set data')\n",
    "    #     arbol.printCurrent()\n",
    "        print('-----------------------------------------------------')"
   ]
  },
  {
   "cell_type": "markdown",
   "metadata": {},
   "source": [
    "### print tree in order"
   ]
  },
  {
   "cell_type": "code",
   "execution_count": 68,
   "metadata": {},
   "outputs": [],
   "source": [
    "def printtree(tree_node):\n",
    "    if tree_node.left is not None:\n",
    "        printtree(tree_node.left)\n",
    "    print(tree_node.data)\n",
    "    if tree_node.right is not None:\n",
    "        printtree(tree_node.right)"
   ]
  },
  {
   "cell_type": "markdown",
   "metadata": {},
   "source": [
    "### Define formula, insert intro tree"
   ]
  },
  {
   "cell_type": "code",
   "execution_count": 69,
   "metadata": {},
   "outputs": [
    {
     "name": "stdout",
     "output_type": "stream",
     "text": [
      "(\n",
      "root\n",
      "create empty child node, current node is the one created\n",
      "-----------------------------------------------------\n",
      "e\n",
      "left var\n",
      "create a child node and set data\n",
      "-----------------------------------------------------\n",
      "^\n",
      "up add operator\n",
      "go to empty parent and set data\n",
      "-----------------------------------------------------\n",
      "(\n",
      "right empty\n",
      "create empty child node, current node is the one created\n",
      "-----------------------------------------------------\n",
      "2\n",
      "left var\n",
      "create a child node and set data\n",
      "-----------------------------------------------------\n",
      "*\n",
      "up add operator\n",
      "go to empty parent and set data\n",
      "-----------------------------------------------------\n",
      "(\n",
      "right empty\n",
      "create empty child node, current node is the one created\n",
      "-----------------------------------------------------\n",
      "x\n",
      "left var\n",
      "create a child node and set data\n",
      "-----------------------------------------------------\n",
      "^\n",
      "up add operator\n",
      "go to empty parent and set data\n",
      "-----------------------------------------------------\n",
      "2\n",
      "right var\n",
      "create a child node and set data\n",
      "-----------------------------------------------------\n",
      ")\n",
      "go up\n",
      "current node is the parent of the current node\n",
      "-----------------------------------------------------\n",
      ")\n",
      "go up\n",
      "current node is the parent of the current node\n",
      "-----------------------------------------------------\n",
      ")\n",
      "go up\n",
      "current node is the parent of the current node\n",
      "-----------------------------------------------------\n"
     ]
    }
   ],
   "source": [
    "# formula = '(x^2)'\n",
    "# formula = '((x^2)^2)'\n",
    "# formula = '((e^(2*x))+(x^2))'\n",
    "# formula = '(((x^2)+1)^4)'\n",
    "# formula = '(((3*(x^2))*(((x^2)+1)^3))+(e^(2*x)))'\n",
    "# formula = '(e^(2*(x^2)))'\n",
    "\n",
    "arbol = Tree()\n",
    "formtree(arbol)"
   ]
  },
  {
   "cell_type": "code",
   "execution_count": 70,
   "metadata": {},
   "outputs": [
    {
     "name": "stdout",
     "output_type": "stream",
     "text": [
      "euler\n",
      "product\n",
      "power\n",
      "var\n",
      "const\n"
     ]
    },
    {
     "data": {
      "text/plain": [
       "'((2*(2*x^(2-1)*1)+0*(x^2))*e^((2*(x^2))))'"
      ]
     },
     "execution_count": 70,
     "metadata": {},
     "output_type": "execute_result"
    }
   ],
   "source": [
    "derivar(arbol.root)"
   ]
  },
  {
   "cell_type": "code",
   "execution_count": 60,
   "metadata": {},
   "outputs": [
    {
     "data": {
      "text/plain": [
       "'(3*(x^2))*(3*((x^2)+1)^(3-1)*((2*x^(2-1)*1)+0))+(6x^(1))+0*(x^2))*(((x^2)+1)^3)+(2e^(2*x))'"
      ]
     },
     "execution_count": 60,
     "metadata": {},
     "output_type": "execute_result"
    }
   ],
   "source": [
    "'(3*(x^2))*(3*((x^2)+1)^(3-1)*((2*x^(2-1)*1)+0))+(6x^(1))+0*(x^2))*(((x^2)+1)^3)+(2e^(2*x))'"
   ]
  },
  {
   "cell_type": "code",
   "execution_count": null,
   "metadata": {},
   "outputs": [],
   "source": [
    "\n"
   ]
  },
  {
   "cell_type": "code",
   "execution_count": null,
   "metadata": {},
   "outputs": [],
   "source": []
  },
  {
   "cell_type": "code",
   "execution_count": null,
   "metadata": {},
   "outputs": [],
   "source": []
  },
  {
   "cell_type": "code",
   "execution_count": 30,
   "metadata": {},
   "outputs": [],
   "source": []
  },
  {
   "cell_type": "code",
   "execution_count": null,
   "metadata": {},
   "outputs": [],
   "source": []
  }
 ],
 "metadata": {
  "kernelspec": {
   "display_name": "Python 3",
   "language": "python",
   "name": "python3"
  },
  "language_info": {
   "codemirror_mode": {
    "name": "ipython",
    "version": 3
   },
   "file_extension": ".py",
   "mimetype": "text/x-python",
   "name": "python",
   "nbconvert_exporter": "python",
   "pygments_lexer": "ipython3",
   "version": "3.7.0"
  }
 },
 "nbformat": 4,
 "nbformat_minor": 2
}
